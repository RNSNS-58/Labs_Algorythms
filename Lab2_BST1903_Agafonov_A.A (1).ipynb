{
 "cells": [
  {
   "cell_type": "markdown",
   "metadata": {},
   "source": [
    "# Лабораторная работа №2\n",
    "\n",
    "Методы поиска\n",
    "\n",
    "Выполнил студент группы БСТ1903 Агафонов А.А.\n",
    "\n",
    "Реализовать методы поиска в соответствии с заданием. Организовать генерацию начального набора случайных данных. Для всех вариантов добавить реализацию добавления, поиска и удаления элементов. Оценить время работы каждого алгоритма поиска и сравнить его со временем работы стандартной функции поиска, используемой в выбранном языке программирования."
   ]
  },
  {
   "cell_type": "markdown",
   "metadata": {},
   "source": [
    "## Задание 1\n",
    "\n",
    "Бинарный поиск, бинарное дерево, фибоначчиев, интерполяционный"
   ]
  },
  {
   "cell_type": "markdown",
   "metadata": {},
   "source": [
    "Бинарный поиск"
   ]
  },
  {
   "cell_type": "code",
   "execution_count": 1,
   "metadata": {},
   "outputs": [],
   "source": [
    "import random\n",
    "import time"
   ]
  },
  {
   "cell_type": "code",
   "execution_count": 2,
   "metadata": {},
   "outputs": [],
   "source": [
    "def random_arr(m = 50, min_limit = -250, max_limit = 1013):\n",
    "    import random\n",
    "    return [random.randint(min_limit, max_limit) for _ in range(m)]"
   ]
  },
  {
   "cell_type": "code",
   "execution_count": 3,
   "metadata": {},
   "outputs": [],
   "source": [
    "def BinSearch(arr, x):\n",
    "    i = 0\n",
    "    j = len(arr)-1\n",
    "    while i < j:\n",
    "        m = int((i+j)/2)\n",
    "        if x > arr[m]:\n",
    "            i = m+1\n",
    "        else:\n",
    "            j = m\n",
    "    return j"
   ]
  },
  {
   "cell_type": "code",
   "execution_count": 4,
   "metadata": {},
   "outputs": [
    {
     "name": "stdout",
     "output_type": "stream",
     "text": [
      "[-25, -15, 0, 15, 17, 19, 22, 23, 27, 44, 52, 58, 73, 89, 97]\n",
      "Данного элемента в массиве нет\n",
      "Хотите добавить данный элемент в массив?\n",
      "да\n",
      "[-25, -15, 0, 10, 15, 17, 19, 22, 23, 27, 44, 52, 58, 73, 89, 97]\n",
      "Хотите удалить данный элемент из массива?\n",
      "нет\n"
     ]
    }
   ],
   "source": [
    "newMatrix = random_arr(15, -25, 100)\n",
    "newMatrix.sort()\n",
    "print (newMatrix)\n",
    "k=10\n",
    "g=BinSearch(newMatrix, k)\n",
    "if newMatrix[g] == k:\n",
    "    print (\"Это элемент под номером \",g)\n",
    "else: print (\"Данного элемента в массиве нет\")\n",
    "print (\"Хотите добавить данный элемент в массив?\")\n",
    "s=(input())\n",
    "if s == \"да\":\n",
    "    newMatrix.insert(g, k)\n",
    "    print (newMatrix)\n",
    "if newMatrix[g] == k: \n",
    "    print (\"Хотите удалить данный элемент из массива?\")\n",
    "    s=(input())\n",
    "    if s == \"да\":\n",
    "        newMatrix.pop(g)\n",
    "        print (newMatrix)"
   ]
  },
  {
   "cell_type": "markdown",
   "metadata": {},
   "source": [
    "Фибоначчиев поиск"
   ]
  },
  {
   "cell_type": "code",
   "execution_count": 5,
   "metadata": {},
   "outputs": [],
   "source": [
    "def FibonacciSearch(lys, val):\n",
    "    fibM_minus_2 = 0 \n",
    "    fibM_minus_1 = 1  \n",
    "    fibM = fibM_minus_1 + fibM_minus_2\n",
    "    while (fibM < len(lys)):\n",
    "        fibM_minus_2 = fibM_minus_1\n",
    "        fibM_minus_1 = fibM\n",
    "        fibM = fibM_minus_1 + fibM_minus_2\n",
    "    index = -1;\n",
    "    while (fibM > 1):\n",
    "        i = min(index + fibM_minus_2, (len(lys)-1))\n",
    "        if (lys[i] < val):\n",
    "            fibM = fibM_minus_1\n",
    "            fibM_minus_1 = fibM_minus_2\n",
    "            fibM_minus_2 = fibM - fibM_minus_1\n",
    "            index = i\n",
    "        elif (lys[i] > val):\n",
    "            fibM = fibM_minus_2\n",
    "            fibM_minus_1 = fibM_minus_1 - fibM_minus_2\n",
    "            fibM_minus_2 = fibM - fibM_minus_1\n",
    "        else :\n",
    "            return i\n",
    "    if(fibM_minus_1 and index<(len(lys)-1) and lys[index+1] == val):\n",
    "        return index+1;\n",
    "    return -1\n",
    "from random import randint"
   ]
  },
  {
   "cell_type": "code",
   "execution_count": 6,
   "metadata": {},
   "outputs": [
    {
     "name": "stdout",
     "output_type": "stream",
     "text": [
      "[1, 2, 3, 4, 5, 6]\n",
      "Это элемент под номером  2\n",
      "Хотите добавить данный элемент в массив?\n",
      "да\n",
      "[1, 2, 3, 3, 4, 5, 6]\n",
      "Хотите удалить данный элемент из массива?\n",
      "нет\n"
     ]
    }
   ],
   "source": [
    "newMatrix=[4,5,6,1,2,3]\n",
    "newMatrix.sort()\n",
    "print (newMatrix)\n",
    "k=3\n",
    "n=len(newMatrix)\n",
    "g=FibonacciSearch(newMatrix, k)\n",
    "if newMatrix[g] == k:\n",
    "    print (\"Это элемент под номером \",g)\n",
    "else: print (\"Данного элемента в массиве нет\")\n",
    "print (\"Хотите добавить данный элемент в массив?\")\n",
    "s=(input())\n",
    "if s == \"да\":\n",
    "    newMatrix.insert(g, k)\n",
    "    print (newMatrix)\n",
    "if newMatrix[g] == k: \n",
    "    print (\"Хотите удалить данный элемент из массива?\")\n",
    "    s=(input())\n",
    "    if s == \"да\":\n",
    "        newMatrix.pop(g)\n",
    "        print (newMatrix)"
   ]
  },
  {
   "cell_type": "markdown",
   "metadata": {},
   "source": [
    "Интерполяционный поиск"
   ]
  },
  {
   "cell_type": "code",
   "execution_count": 7,
   "metadata": {},
   "outputs": [],
   "source": [
    "def interpolation(a, k) : \n",
    "    left = 0  \n",
    "    right = len(a) - 1  \n",
    "    while a[left] < k and k < a[right]:\n",
    "        mid = int(left + (k - a[left]) * (right - left) / (a[right] - a[left]))  \n",
    "        if a[mid] < k:\n",
    "            left = mid + 1\n",
    "        elif a[mid] > k:\n",
    "            right = mid - 1\n",
    "        else:\n",
    "            return mid\n",
    "\n",
    "    if a[left] == k:\n",
    "        return left\n",
    "    elif a[right] == k:\n",
    "        return right\n",
    "    else:\n",
    "        return left"
   ]
  },
  {
   "cell_type": "code",
   "execution_count": 9,
   "metadata": {},
   "outputs": [
    {
     "name": "stdout",
     "output_type": "stream",
     "text": [
      "[-22, -12, 4, 8, 23, 41, 43, 46, 55, 59, 61, 65, 70, 87, 99]\n",
      "Данного элемента в массиве нет\n",
      "Хотите добавить данный элемент в массив?\n",
      "да\n",
      "[3, -22, -12, 4, 8, 23, 41, 43, 46, 55, 59, 61, 65, 70, 87, 99]\n",
      "Хотите удалить данный элемент из массива?\n",
      "нет\n"
     ]
    }
   ],
   "source": [
    "newMatrix = random_arr(15, -25, 100)\n",
    "newMatrix.sort()\n",
    "print (newMatrix)\n",
    "k=3\n",
    "g=interpolation(newMatrix, k)\n",
    "if newMatrix[g] == k:\n",
    "    print (\"Это элемент под номером \",g)\n",
    "else: print (\"Данного элемента в массиве нет\")\n",
    "print (\"Хотите добавить данный элемент в массив?\")\n",
    "s=(input())\n",
    "if s == \"да\":\n",
    "    newMatrix.insert(g, k)\n",
    "    print (newMatrix)\n",
    "if newMatrix[g] == k: \n",
    "    print (\"Хотите удалить данный элемент из массива?\")\n",
    "    s=(input())\n",
    "    if s == \"да\":\n",
    "        newMatrix.pop(g)\n",
    "        print (newMatrix)"
   ]
  },
  {
   "cell_type": "markdown",
   "metadata": {},
   "source": [
    "Бинарное дерево"
   ]
  },
  {
   "cell_type": "code",
   "execution_count": 12,
   "metadata": {},
   "outputs": [
    {
     "name": "stdout",
     "output_type": "stream",
     "text": [
      "5 Not Found\n",
      "12 is found\n",
      "None\n"
     ]
    }
   ],
   "source": [
    "class node:\n",
    "    def __init__(self, data = None, left = None, right = None):\n",
    "        self.data   = data\n",
    "        self.left   = left\n",
    "        self.right  = right\n",
    "        \n",
    "    def insert(self, data):\n",
    "        if self.data:\n",
    "            if data < self.data:\n",
    "                if self.left is None:\n",
    "                    self.left = node(data)\n",
    "                else:\n",
    "                    self.left.insert(data)\n",
    "            elif data > self.data:\n",
    "                if self.right is None:\n",
    "                    self.right = node(data)\n",
    "                else:\n",
    "                    self.right.insert(data)\n",
    "        else:\n",
    "            self.data = data\n",
    "            \n",
    "    def findval(self, lkpval):\n",
    "        if lkpval < self.data:\n",
    "            if self.left is None:\n",
    "                return str(lkpval)+\" Not Found\"\n",
    "            return self.left.findval(lkpval)\n",
    "        elif lkpval > self.data:\n",
    "            if self.right is None:\n",
    "                return str(lkpval)+\" Not Found\"\n",
    "            return self.right.findval(lkpval)\n",
    "        else:\n",
    "            print(str(self.data) + ' is found')\n",
    "\n",
    "    def PrintTree(self):\n",
    "        if self.left:\n",
    "            self.left.PrintTree()\n",
    "        print( self.data),\n",
    "        if self.right:\n",
    "            self.right.PrintTree()\n",
    "            \n",
    "root = node(12)\n",
    "root.insert(6)\n",
    "root.insert(14)\n",
    "root.insert(3)\n",
    "print(root.findval(5))\n",
    "print(root.findval(12))"
   ]
  },
  {
   "cell_type": "markdown",
   "metadata": {},
   "source": [
    "## Задание №2\n",
    "\n",
    "Простое рехэширование,Рехэширование с помощью псевдослучайных чисел, Метод цепочек\n",
    "\n",
    "Простое рехэширование"
   ]
  },
  {
   "cell_type": "code",
   "execution_count": 13,
   "metadata": {},
   "outputs": [],
   "source": [
    "class HashMap:\n",
    "    def Fhash (a, id):\n",
    "        n=64\n",
    "        i=0\n",
    "        hash = (ord(id[0])+ord(id[len(id)//2])+ord(id[len(id)-1])+i)//n\n",
    "        if a[hash] == None:\n",
    "            a[hash]=id\n",
    "        else:\n",
    "            k=hash\n",
    "            i=i+1\n",
    "            while (a[hash]!=None) and (hash !=255):\n",
    "                hash = (ord(id[0])+ord(id[len(id)//2])+ord(id[len(id)-1])+i)//n\n",
    "                i=i+1\n",
    "            if a[hash] == None:\n",
    "                a[hash]=id\n",
    "            else:\n",
    "                hash = i//n\n",
    "                while (a[hash]!=None) or (hash !=k):\n",
    "                    hash = i//n\n",
    "                    i=i+1\n",
    "                if a[hash] == None:\n",
    "                    a[hash]=id\n",
    "                else:\n",
    "                    print (\"There are no places in the table\")\n",
    "        return a\n",
    "    \n",
    "    def Fhashsearch (a, id):\n",
    "        n=256\n",
    "        i=0\n",
    "        hash = (ord(id[0])+ord(id[len(id)//2])+ord(id[len(id)-1])+i)//n\n",
    "        if a[hash] == id:\n",
    "            return hash\n",
    "        else:\n",
    "            k=hash\n",
    "            i=i+1\n",
    "            while (a[hash]!=id) and (hash !=255):\n",
    "                hash = (ord(id[0])+ord(id[len(id)//2])+ord(id[len(id)-1])+i)//n\n",
    "                i=i+1\n",
    "        if a[hash] == id:\n",
    "            return hash\n",
    "        else:\n",
    "            hash = i//n\n",
    "            while (a[hash]!=id) and (hash <250):\n",
    "                hash = i//n\n",
    "                i=i+1\n",
    "            if a[hash] == id:\n",
    "                return hash\n",
    "            else:\n",
    "                print (\"Идентификатор не найден\")\n",
    "    def Fhashdel (a, id, n):\n",
    "        a[n]=None\n",
    "        return (a)"
   ]
  },
  {
   "cell_type": "code",
   "execution_count": 14,
   "metadata": {},
   "outputs": [
    {
     "name": "stdout",
     "output_type": "stream",
     "text": [
      "Хотите добавить новый идентификатор в таблицу?\n",
      "да\n",
      "21\n",
      "Хотите добавить новый идентификатор в таблицу?\n",
      "нет\n",
      "[None, None, '21', None, None, None, None, None, None, None, None, None, None, None, None, None, None, None, None, None, None, None, None, None, None, None, None, None, None, None, None, None, None, None, None, None, None, None, None, None, None, None, None, None, None, None, None, None, None, None, None, None, None, None, None, None, None, None, None, None, None, None, None, None]\n",
      "Хотите найти идентификатор в таблице?\n",
      "да\n",
      "21\n",
      "2\n",
      "Хотите найти идентификатор в таблице?\n",
      "нет\n",
      "Хотите удалить идентификатор из таблицы?\n",
      "нет\n"
     ]
    }
   ],
   "source": [
    "a=[None]*64\n",
    "print (\"Хотите добавить новый идентификатор в таблицу?\")\n",
    "s=(input())\n",
    "if s == \"да\":\n",
    "    while s ==\"да\":\n",
    "        id=(input())\n",
    "        HashMap.Fhash (a, id)\n",
    "        print (\"Хотите добавить новый идентификатор в таблицу?\")\n",
    "        s=(input())\n",
    "print (a)\n",
    "print (\"Хотите найти идентификатор в таблице?\")\n",
    "k=(input())\n",
    "if k == \"да\":\n",
    "    while k ==\"да\":\n",
    "        id=(input())\n",
    "        hash =HashMap.Fhashsearch (a, id)\n",
    "        print (hash)\n",
    "        print (\"Хотите найти идентификатор в таблице?\")\n",
    "        k=(input())\n",
    "    if hash!= None:\n",
    "        print (\"Хотите удалить идентификатор из таблицы?\")\n",
    "        k=(input())\n",
    "        if k == \"да\":\n",
    "            HashMap.Fhashdel(a, id, hash)\n",
    "            print (a)"
   ]
  },
  {
   "cell_type": "markdown",
   "metadata": {},
   "source": [
    "Рехэширование с помощью псевдослучайных чисел"
   ]
  },
  {
   "cell_type": "code",
   "execution_count": 15,
   "metadata": {},
   "outputs": [],
   "source": [
    "class RandomHashMap:\n",
    "    def Fhash2 (a, id, i):\n",
    "        import random\n",
    "        i=i+1\n",
    "        if i<63:\n",
    "            n=64\n",
    "            hash = (ord(id[0])+ord(id[len(id)//2])+ord(id[len(id)-1])+random.randint(0, 1500))//n\n",
    "            if a[hash] == None:\n",
    "                a[hash]=id\n",
    "            else:\n",
    "                k=hash\n",
    "                while (a[hash]!=None):\n",
    "                    hash = (ord(id[0])+ord(id[len(id)//2])+ord(id[len(id)-1])+random.randint(0, 1500))//n\n",
    "\n",
    "        else:\n",
    "            print (\"There are no places in the table\")\n",
    "        return a\n",
    "    def Fhashsearch2(a, id):\n",
    "        i=0\n",
    "        while i<63 and a[i]!=id:\n",
    "            i=i+1\n",
    "        if a[i]==id:\n",
    "            return i\n",
    "        else:\n",
    "             print (\"Идентификатор не найден\") \n",
    "    def FhashDel2(a, id):\n",
    "        i=0\n",
    "        while i<63 and a[i]!=id:\n",
    "            i=i+1\n",
    "        if a[i]==id:\n",
    "            a[i]=None\n",
    "            return a\n",
    "        else:\n",
    "             print (\"Идентификатор не найден\")"
   ]
  },
  {
   "cell_type": "code",
   "execution_count": 16,
   "metadata": {},
   "outputs": [
    {
     "name": "stdout",
     "output_type": "stream",
     "text": [
      "Хотите добавить новый идентификатор в таблицу?\n",
      "да\n",
      "43\n",
      "Хотите добавить новый идентификатор в таблицу?\n",
      "да\n",
      "56\n",
      "Хотите добавить новый идентификатор в таблицу?\n",
      "нет\n",
      "[None, None, None, None, None, None, None, None, None, None, None, None, None, '43', None, None, None, None, None, None, '56', None, None, None, None, None, None, None, None, None, None, None, None, None, None, None, None, None, None, None, None, None, None, None, None, None, None, None, None, None, None, None, None, None, None, None, None, None, None, None, None, None, None, None]\n",
      "Хотите найти идентификатор в таблице?\n",
      "да\n",
      "43\n",
      "13\n",
      "Хотите найти идентификатор в таблице?\n",
      "56\n",
      "Хотите удалить идентификатор из таблицы?\n",
      "нет\n"
     ]
    }
   ],
   "source": [
    "a=[None]*64\n",
    "i=0\n",
    "print (\"Хотите добавить новый идентификатор в таблицу?\")\n",
    "s=(input())\n",
    "if s == \"да\":\n",
    "    while s ==\"да\":\n",
    "        id=(input())\n",
    "        RandomHashMap.Fhash2 (a, id, i)\n",
    "        print (\"Хотите добавить новый идентификатор в таблицу?\")\n",
    "        s=(input())\n",
    "print (a)\n",
    "print (\"Хотите найти идентификатор в таблице?\")\n",
    "k=(input())\n",
    "if k == \"да\":\n",
    "    while k ==\"да\":\n",
    "        id=(input())\n",
    "        hash =RandomHashMap.Fhashsearch2 (a, id)\n",
    "        print (hash)\n",
    "        print (\"Хотите найти идентификатор в таблице?\")\n",
    "        k=(input())\n",
    "    if hash!= None:\n",
    "        print (\"Хотите удалить идентификатор из таблицы?\")\n",
    "        k=(input())\n",
    "        if k == \"да\":\n",
    "            RandomHashMap.Fhashdel2 (a, id)\n",
    "            print (a)"
   ]
  },
  {
   "cell_type": "markdown",
   "metadata": {},
   "source": [
    "Метод цепочек"
   ]
  },
  {
   "cell_type": "code",
   "execution_count": 17,
   "metadata": {},
   "outputs": [],
   "source": [
    "class ChainMap:\n",
    "    def Chainmethod (arr, id):\n",
    "        h=0\n",
    "        for i in range (0, len(id)):\n",
    "            h=ord(id[i])+h\n",
    "        key=h%10\n",
    "        arr[key].append(id)\n",
    "        return key\n",
    "    def ChainmethodSearch (a, id):\n",
    "        h=0\n",
    "        for i in range (0, len(id)):\n",
    "            h=ord(id[i])+h\n",
    "        key=h%10\n",
    "        k=0\n",
    "        for i in range (len(a[key])):\n",
    "            if a[key][i]==id:\n",
    "                print(\"Строка \", key, \"Элемент \", i)\n",
    "                k=1\n",
    "        if k==0:\n",
    "            print(\"Идентификатор не найден\")\n",
    "            return (1)\n",
    "\n",
    "    def ChainmethodDeletions (a, id):\n",
    "        h=0\n",
    "        for i in range (0, len(id)):\n",
    "            h=ord(id[i])+h\n",
    "        key=h%10\n",
    "        for i in range (len(a[key])):\n",
    "            if a[key][i]==id:\n",
    "                del(a[key][i])\n",
    "        return (key)"
   ]
  },
  {
   "cell_type": "code",
   "execution_count": 18,
   "metadata": {},
   "outputs": [
    {
     "name": "stdout",
     "output_type": "stream",
     "text": [
      "Хотите добавить новый идентификатор в таблицу?\n",
      "да\n",
      "12\n",
      "Хотите добавить новый идентификатор в таблицу?\n",
      "нет\n",
      "[[], [], [], [], [], [], [], [], [], ['12']]\n",
      "Хотите найти идентификатор в таблице?\n",
      "да\n",
      "1\n",
      "Идентификатор не найден\n",
      "Хотите найти идентификатор в таблице?\n",
      "да\n",
      "12\n",
      "Строка  9 Элемент  0\n",
      "Хотите найти идентификатор в таблице?\n",
      "нет\n",
      "Хотите удалить идентификатор из таблицы?\n",
      "нет\n"
     ]
    }
   ],
   "source": [
    "key=[[]*1 for i in range (10)]\n",
    "print (\"Хотите добавить новый идентификатор в таблицу?\")\n",
    "s=(input())\n",
    "if s == \"да\":\n",
    "    while s ==\"да\":\n",
    "        id=(input())\n",
    "        x=ChainMap.Chainmethod (key, id)\n",
    "        print (\"Хотите добавить новый идентификатор в таблицу?\")\n",
    "        s=(input())\n",
    "print (key)\n",
    "\n",
    "print (\"Хотите найти идентификатор в таблице?\")\n",
    "k=(input())\n",
    "if k == \"да\":\n",
    "    while k ==\"да\":\n",
    "        id=(input())\n",
    "        hash =ChainMap.ChainmethodSearch (key, id)\n",
    "        print (\"Хотите найти идентификатор в таблице?\")\n",
    "        k=(input())\n",
    "    if hash!= 1:\n",
    "        print (\"Хотите удалить идентификатор из таблицы?\")\n",
    "        k=(input())\n",
    "        if k == \"да\":\n",
    "            hash =ChainMap.ChainmethodDeletions (key, id)\n",
    "            print (key)"
   ]
  },
  {
   "cell_type": "markdown",
   "metadata": {},
   "source": [
    "## Задание 3\n",
    "\n",
    "Расставить на стандартной 64-клеточной шахматной доске 8 ферзей так, чтобы ни один из них не находился под боем другого». Подразумевается, что ферзь бьёт все клетки, расположенные по вертикалям, горизонталям и обеим диагоналям Написать программу, которая находит хотя бы один способ решения задач."
   ]
  },
  {
   "cell_type": "code",
   "execution_count": 19,
   "metadata": {},
   "outputs": [
    {
     "name": "stdout",
     "output_type": "stream",
     "text": [
      "8\n",
      ". Ф . . . . . .\n",
      ". . . Ф . . . .\n",
      ". . . . . Ф . .\n",
      ". . . . . . . Ф\n",
      ". . Ф . . . . .\n",
      "Ф . . . . . . .\n",
      ". . . . . . Ф .\n",
      ". . . . Ф . . .\n",
      "\n",
      "\n",
      ". . . . Ф . . .\n",
      ". . . . . . Ф .\n",
      "Ф . . . . . . .\n",
      ". . Ф . . . . .\n",
      ". . . . . . . Ф\n",
      ". . . . . Ф . .\n",
      ". . . Ф . . . .\n",
      ". Ф . . . . . .\n"
     ]
    }
   ],
   "source": [
    "n=int(input())\n",
    "if n%6==2:\n",
    "    even=list(range(1,n,2))\n",
    "    odd=list(range(2,n,2))\n",
    "    odd[1]=0\n",
    "    odd.append(4)\n",
    "elif n%6==3:\n",
    "    even=list(range(3, n, 2))\n",
    "    odd=list(range(4, n, 2))\n",
    "    even.append(1)\n",
    "    odd.append(0)\n",
    "    odd.append(2)\n",
    "else:\n",
    "    even=list(range(1,n,2))\n",
    "    odd=list(range(0,n,2))\n",
    "rez=even+odd\n",
    "row=[\".\"]*n\n",
    "for i in range(n):\n",
    "    j=rez[i]\n",
    "    row[j]=\"Ф\"\n",
    "    print(*row)\n",
    "    row[j]=\".\"\n",
    "i=n-1\n",
    "print(\"\\n\")\n",
    "while i>=0:\n",
    "    j=rez[i]\n",
    "    row[j]=\"Ф\"\n",
    "    print(*row)\n",
    "    row[j]=\".\"\n",
    "    i-=1"
   ]
  },
  {
   "cell_type": "code",
   "execution_count": null,
   "metadata": {},
   "outputs": [],
   "source": []
  }
 ],
 "metadata": {
  "kernelspec": {
   "display_name": "Python 3",
   "language": "python",
   "name": "python3"
  },
  "language_info": {
   "codemirror_mode": {
    "name": "ipython",
    "version": 3
   },
   "file_extension": ".py",
   "mimetype": "text/x-python",
   "name": "python",
   "nbconvert_exporter": "python",
   "pygments_lexer": "ipython3",
   "version": "3.8.5"
  }
 },
 "nbformat": 4,
 "nbformat_minor": 4
}
