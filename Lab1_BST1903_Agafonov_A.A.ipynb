{
 "cells": [
  {
   "cell_type": "code",
   "execution_count": 1,
   "metadata": {},
   "outputs": [],
   "source": [
    "#Лабораторная работа №1\n",
    "##Выполнил студент группы БСТ1903 Агафонов А.А"
   ]
  },
  {
   "cell_type": "code",
   "execution_count": 2,
   "metadata": {},
   "outputs": [],
   "source": [
    "#Задание №1\n",
    "##Вывести фразу \"Hello, world\""
   ]
  },
  {
   "cell_type": "code",
   "execution_count": 3,
   "metadata": {},
   "outputs": [
    {
     "name": "stdout",
     "output_type": "stream",
     "text": [
      "Hello, World!\n"
     ]
    }
   ],
   "source": [
    "print(\"Hello, World!\")"
   ]
  },
  {
   "cell_type": "code",
   "execution_count": 4,
   "metadata": {},
   "outputs": [],
   "source": [
    "#Задание №2\n",
    "##Создание случайной матрицы"
   ]
  },
  {
   "cell_type": "code",
   "execution_count": 5,
   "metadata": {},
   "outputs": [],
   "source": [
    "import random\n",
    "def random_matrix(m = 50, n = 50, min_limit = -250, max_limit = 1001):\n",
    "    return [[random.randint(min_limit, max_limit) for _ in range(n)] for _ in range(m)]"
   ]
  },
  {
   "cell_type": "code",
   "execution_count": 6,
   "metadata": {},
   "outputs": [
    {
     "name": "stdout",
     "output_type": "stream",
     "text": [
      "[405, 587, 764, 103, 660]\n",
      "[679, 36, 189, 481, 466]\n",
      "[-199, 990, -193, -177, 348]\n",
      "[905, 803, 911, 152, 242]\n",
      "[858, -104, 788, -247, 278]\n"
     ]
    }
   ],
   "source": [
    "a=random_matrix(5,5,-250,1001)\n",
    "for i in range(5):\n",
    "    print(a[i])"
   ]
  },
  {
   "cell_type": "code",
   "execution_count": 7,
   "metadata": {},
   "outputs": [],
   "source": [
    "#Задание №3\n",
    "##Реализовать методы сортировки строк числовой матрицы:\n",
    "##выбором,вставкой,обменом,Шелла,турнирная,быстрая сортировка,пирамидальная\n",
    "###Оценить время работы каждого алгоритма сортировки и сравнить его со временем стандартной функции сортировки"
   ]
  },
  {
   "cell_type": "code",
   "execution_count": 8,
   "metadata": {},
   "outputs": [],
   "source": [
    "# Сортировка выбором\n",
    "\n",
    "def sel_sort(arr):\n",
    "    for i in range(len(arr) - 1):\n",
    "        m = i\n",
    "        j = i + 1\n",
    "        while j < len(arr):\n",
    "            if arr[j] < arr[m]:\n",
    "                m = j\n",
    "            j = j + 1\n",
    "        arr[i], arr[m] = arr[m], arr[i]"
   ]
  },
  {
   "cell_type": "code",
   "execution_count": 9,
   "metadata": {},
   "outputs": [
    {
     "name": "stdout",
     "output_type": "stream",
     "text": [
      "[13, 720, 254, 345, 358]\n",
      "[147, 633, 633, 253, -96]\n",
      "[-36, 26, 64, 520, 428]\n",
      "[382, 206, -188, 272, -89]\n",
      "[117, 180, 295, 1001, 412]\n",
      " \n",
      "[-36, 26, 64, 520, 428]\n",
      "[13, 720, 254, 345, 358]\n",
      "[117, 180, 295, 1001, 412]\n",
      "[147, 633, 633, 253, -96]\n",
      "[382, 206, -188, 272, -89]\n"
     ]
    }
   ],
   "source": [
    "a=random_matrix(5,5,-250,1001)\n",
    "for i in range(5):\n",
    "    print(a[i])\n",
    "print(\" \")\n",
    "sel_sort(a)\n",
    "for i in range(5):\n",
    "    print(a[i])"
   ]
  },
  {
   "cell_type": "code",
   "execution_count": 10,
   "metadata": {},
   "outputs": [],
   "source": [
    "# Сортировка вставкой\n",
    "\n",
    "def insertion_sort(arr):\n",
    "    for i in range(1, len(arr)):\n",
    "        key = arr[i]\n",
    "        j = i-1\n",
    "        while j >=0 and key < arr[j] :\n",
    "            arr[j+1] = arr[j]\n",
    "            j -= 1\n",
    "        arr[j+1] = key"
   ]
  },
  {
   "cell_type": "code",
   "execution_count": 11,
   "metadata": {},
   "outputs": [
    {
     "name": "stdout",
     "output_type": "stream",
     "text": [
      "[820, 882, 668, 508, -57]\n",
      "[-208, 565, 748, -160, 893]\n",
      "[846, -41, -250, 567, 355]\n",
      "[201, -51, 399, 41, 376]\n",
      "[832, -204, 48, 81, 545]\n",
      " \n",
      "[-208, 565, 748, -160, 893]\n",
      "[201, -51, 399, 41, 376]\n",
      "[820, 882, 668, 508, -57]\n",
      "[832, -204, 48, 81, 545]\n",
      "[846, -41, -250, 567, 355]\n"
     ]
    }
   ],
   "source": [
    "a=random_matrix(5,5,-250,1001)\n",
    "for i in range(5):\n",
    "    print(a[i])\n",
    "print(\" \")\n",
    "insertion_sort(a)\n",
    "for i in range(5):\n",
    "    print(a[i])"
   ]
  },
  {
   "cell_type": "code",
   "execution_count": 12,
   "metadata": {},
   "outputs": [],
   "source": [
    "# Сортировка обменом\n",
    "\n",
    "def bubble_sort(arr):\n",
    "    for i in range(len(arr)):\n",
    "        for j in range(0, len(arr)-i-1): \n",
    "            if arr[j] > arr[j+1] : \n",
    "                arr[j], arr[j+1] = arr[j+1], arr[j]"
   ]
  },
  {
   "cell_type": "code",
   "execution_count": 13,
   "metadata": {},
   "outputs": [
    {
     "name": "stdout",
     "output_type": "stream",
     "text": [
      "[300, 711, 327, 543, -159]\n",
      "[-171, 71, -86, 596, 193]\n",
      "[-174, 820, 512, 97, 516]\n",
      "[864, 527, 569, 783, -114]\n",
      "[805, 923, 368, 651, 444]\n",
      " \n",
      "[-174, 820, 512, 97, 516]\n",
      "[-171, 71, -86, 596, 193]\n",
      "[300, 711, 327, 543, -159]\n",
      "[805, 923, 368, 651, 444]\n",
      "[864, 527, 569, 783, -114]\n"
     ]
    }
   ],
   "source": [
    "a=random_matrix(5,5,-250,1001)\n",
    "for i in range(5):\n",
    "    print(a[i])\n",
    "print(\" \")\n",
    "bubble_sort(a)\n",
    "for i in range(5):\n",
    "    print(a[i])"
   ]
  },
  {
   "cell_type": "code",
   "execution_count": 14,
   "metadata": {},
   "outputs": [],
   "source": [
    "# Сортировка Шелла\n",
    "\n",
    "def shell_sort(arr):\n",
    "    last_index = len(arr) - 1\n",
    "    step = len(arr) // 2\n",
    "    while step > 0:\n",
    "        for i in range(step, last_index + 1, 1):\n",
    "            j = i\n",
    "            delta = j - step\n",
    "            while delta >= 0 and arr[delta] > arr[j]:\n",
    "                arr[delta], arr[j] = arr[j], arr[delta]\n",
    "                j = delta\n",
    "                delta = j - step\n",
    "        step //= 2"
   ]
  },
  {
   "cell_type": "code",
   "execution_count": 15,
   "metadata": {},
   "outputs": [
    {
     "name": "stdout",
     "output_type": "stream",
     "text": [
      "[885, 486, 726, 977, 677]\n",
      "[436, 571, 747, 991, -50]\n",
      "[-21, 251, -142, 830, 750]\n",
      "[420, 108, 578, 531, 644]\n",
      "[857, 31, 831, 842, 594]\n",
      " \n",
      "[-21, 251, -142, 830, 750]\n",
      "[420, 108, 578, 531, 644]\n",
      "[436, 571, 747, 991, -50]\n",
      "[857, 31, 831, 842, 594]\n",
      "[885, 486, 726, 977, 677]\n"
     ]
    }
   ],
   "source": [
    "a=random_matrix(5,5,-250,1001)\n",
    "for i in range(5):\n",
    "    print(a[i])\n",
    "print(\" \")\n",
    "shell_sort(a)\n",
    "for i in range(5):\n",
    "    print(a[i])"
   ]
  },
  {
   "cell_type": "code",
   "execution_count": 16,
   "metadata": {},
   "outputs": [],
   "source": [
    "# Быстрая сортировка\n",
    "\n",
    "def quick_sort(arr, fst=0, lst=None):\n",
    "    if lst == None:\n",
    "        lst = len(arr) - 1\n",
    "        \n",
    "    if fst >= lst:\n",
    "        return\n",
    " \n",
    "    i, j = fst, lst\n",
    "    pivot = arr[(lst + fst) // 2]\n",
    " \n",
    "    while i <= j:\n",
    "        while arr[i] < pivot: i += 1\n",
    "        while arr[j] > pivot: j -= 1\n",
    "        if i <= j:\n",
    "            arr[i], arr[j] = arr[j], arr[i]\n",
    "            i, j = i + 1, j - 1\n",
    "            \n",
    "    quick_sort(arr, fst, j)\n",
    "    quick_sort(arr, i, lst)"
   ]
  },
  {
   "cell_type": "code",
   "execution_count": 17,
   "metadata": {},
   "outputs": [
    {
     "name": "stdout",
     "output_type": "stream",
     "text": [
      "[37, 588, 295, 657, 793]\n",
      "[207, -27, 401, -200, 684]\n",
      "[366, 609, 772, -44, 136]\n",
      "[267, 707, 467, 682, 652]\n",
      "[64, 554, 52, 216, -174]\n",
      " \n",
      "[37, 588, 295, 657, 793]\n",
      "[64, 554, 52, 216, -174]\n",
      "[207, -27, 401, -200, 684]\n",
      "[267, 707, 467, 682, 652]\n",
      "[366, 609, 772, -44, 136]\n"
     ]
    }
   ],
   "source": [
    "a=random_matrix(5,5,-250,1001)\n",
    "for i in range(5):\n",
    "    print(a[i])\n",
    "print(\" \")\n",
    "quick_sort(a)\n",
    "for i in range(5):\n",
    "    print(a[i])"
   ]
  },
  {
   "cell_type": "code",
   "execution_count": 18,
   "metadata": {},
   "outputs": [],
   "source": [
    "# Турнирная сортировка\n",
    "\n",
    "def tournament_sort(arr):\n",
    "    tree = [None] * 2 * (len(arr) + len(arr) % 2)\n",
    "    index = len(tree) - len(arr) - len(arr) % 2     #Создание дерева\n",
    "    \n",
    "    for i, v in enumerate(arr):\n",
    "        tree[index + i] = (i, v)                   #Заполнение\n",
    "    \n",
    "    for j in range(len(arr)):\n",
    "        n = len(arr)\n",
    "        index = len(tree) - len(arr) - len(arr) % 2\n",
    "        while index > -1:\n",
    "            n = (n + 1) // 2\n",
    "            for i in range(n):\n",
    "                i = max(index + i * 2, 1)\n",
    "                if tree[i] != None and tree[i + 1] != None:\n",
    "                    if tree[i][1] < tree[i + 1][1]:\n",
    "                        tree[i // 2] = tree[i]\n",
    "                    else:\n",
    "                        tree[i // 2] = tree[i + 1]\n",
    "                else:\n",
    "                    tree[i // 2] = tree[i] if tree[i] != None else tree[i + 1]\n",
    "            index -= n\n",
    "\n",
    "        index, x = tree[0]\n",
    "        arr[j] = x\n",
    "        tree[len(tree) - len(arr) - len(arr) % 2 + index] = None"
   ]
  },
  {
   "cell_type": "code",
   "execution_count": 19,
   "metadata": {},
   "outputs": [
    {
     "name": "stdout",
     "output_type": "stream",
     "text": [
      "[421, -5, 831, 953, -186]\n",
      "[497, -63, 992, -111, 758]\n",
      "[-103, 118, 465, 287, -83]\n",
      "[946, -87, -31, 70, 347]\n",
      "[71, 876, 710, 273, -242]\n",
      " \n",
      "[-103, 118, 465, 287, -83]\n",
      "[71, 876, 710, 273, -242]\n",
      "[421, -5, 831, 953, -186]\n",
      "[497, -63, 992, -111, 758]\n",
      "[946, -87, -31, 70, 347]\n"
     ]
    }
   ],
   "source": [
    "a=random_matrix(5,5,-250,1001)\n",
    "for i in range(5):\n",
    "    print(a[i])\n",
    "print(\" \")\n",
    "tournament_sort(a)\n",
    "for i in range(5):\n",
    "    print(a[i])"
   ]
  },
  {
   "cell_type": "code",
   "execution_count": 20,
   "metadata": {},
   "outputs": [],
   "source": [
    "# Пирамидальная сортировка\n",
    "\n",
    "# Процедура для преобразования в двоичную кучу поддерева с корневым узлом i, что является индексом в arr[]. n - размер кучи\n",
    "def heapify(arr, n, i):\n",
    "    largest = i # Initialize largest as root\n",
    "    l = 2 * i + 1   # left = 2*i + 1\n",
    "    r = 2 * i + 2   # right = 2*i + 2\n",
    "\n",
    "    # Проверяем существует ли левый дочерний элемент больший, чем корень\n",
    "\n",
    "    if l < n and arr[i] < arr[l]:\n",
    "        largest = l\n",
    "\n",
    "    # Проверяем существует ли правый дочерний элемент больший, чем корень\n",
    "\n",
    "    if r < n and arr[largest] < arr[r]:\n",
    "        largest = r\n",
    "\n",
    "    # Заменяем корень, если нужно\n",
    "    if largest != i:\n",
    "        arr[i], arr[largest] = arr[largest], arr[i] # свап\n",
    "\n",
    "        # Применяем heapify к корню.\n",
    "        heapify(arr, n, largest)\n",
    "\n",
    "# Основная функция для сортировки массива заданного размера\n",
    "def heap_sort(arr):\n",
    "    n = len(arr)\n",
    "\n",
    "    # Построение max-heap.\n",
    "    for i in range(n, -1, -1):\n",
    "        heapify(arr, n, i)\n",
    "\n",
    "    # Один за другим извлекаем элементы\n",
    "    for i in range(n-1, 0, -1):\n",
    "        arr[i], arr[0] = arr[0], arr[i] # свап \n",
    "        heapify(arr, i, 0)"
   ]
  },
  {
   "cell_type": "code",
   "execution_count": 21,
   "metadata": {},
   "outputs": [
    {
     "name": "stdout",
     "output_type": "stream",
     "text": [
      "[586, 936, 535, 611, 811]\n",
      "[608, -29, -88, 66, 318]\n",
      "[657, 298, 796, 492, 855]\n",
      "[995, 535, 581, 15, -27]\n",
      "[-54, 636, 962, -124, 257]\n",
      " \n",
      "[-54, 636, 962, -124, 257]\n",
      "[586, 936, 535, 611, 811]\n",
      "[608, -29, -88, 66, 318]\n",
      "[657, 298, 796, 492, 855]\n",
      "[995, 535, 581, 15, -27]\n"
     ]
    }
   ],
   "source": [
    "a=random_matrix(5,5,-250,1001)\n",
    "for i in range(5):\n",
    "    print(a[i])\n",
    "print(\" \")\n",
    "heap_sort(a)\n",
    "for i in range(5):\n",
    "    print(a[i])"
   ]
  },
  {
   "cell_type": "code",
   "execution_count": 22,
   "metadata": {},
   "outputs": [],
   "source": [
    "#Сравнение времени сортировки"
   ]
  },
  {
   "cell_type": "code",
   "execution_count": 23,
   "metadata": {},
   "outputs": [
    {
     "name": "stdout",
     "output_type": "stream",
     "text": [
      "Турнирная: 0.0017703000000004465 seconds \n",
      "Пирамидальная: 0.00021609999999938623 seconds \n",
      "Быстрая: 0.00010849999999962279 seconds \n",
      "Сортировка Шелла: 7.369999999795596e-05 seconds \n",
      "Обменом: 0.00022440000000045757 seconds \n",
      "Вставкой: 5.0200000000444334e-05 seconds \n",
      "Выбором: 0.00026959999999931483 seconds \n",
      "Встроенная: 4.069999999956053e-05 seconds \n"
     ]
    }
   ],
   "source": [
    "import time\n",
    "from time import perf_counter\n",
    "a=random_matrix(50,50,-250,1001)\n",
    "copy_matrix1=a\n",
    "t1_start = perf_counter()\n",
    "tournament_sort(copy_matrix1)\n",
    "t1_stop = perf_counter()\n",
    "print(\"Турнирная: %s seconds \" % (t1_stop-t1_start))\n",
    "copy_matrix1=a\n",
    "t1_start = perf_counter()\n",
    "heap_sort(copy_matrix1)\n",
    "t1_stop = perf_counter() \n",
    "print(\"Пирамидальная: %s seconds \" % (t1_stop-t1_start))\n",
    "copy_matrix1=a\n",
    "t1_start = perf_counter()\n",
    "quick_sort(copy_matrix1)\n",
    "t1_stop = perf_counter() \n",
    "print(\"Быстрая: %s seconds \" % (t1_stop-t1_start))\n",
    "copy_matrix1=a\n",
    "t1_start = perf_counter()\n",
    "shell_sort(copy_matrix1)\n",
    "t1_stop = perf_counter() \n",
    "print(\"Сортировка Шелла: %s seconds \" % (t1_stop-t1_start))\n",
    "copy_matrix1=a\n",
    "t1_start = perf_counter()\n",
    "bubble_sort(copy_matrix1)\n",
    "t1_stop = perf_counter() \n",
    "print(\"Обменом: %s seconds \" % (t1_stop-t1_start))\n",
    "copy_matrix1=a\n",
    "t1_start = perf_counter()\n",
    "insertion_sort(copy_matrix1)\n",
    "t1_stop = perf_counter() \n",
    "print(\"Вставкой: %s seconds \" % (t1_stop-t1_start))\n",
    "copy_matrix1=a\n",
    "t1_start = perf_counter()\n",
    "sel_sort(copy_matrix1)\n",
    "t1_stop = perf_counter() \n",
    "print(\"Выбором: %s seconds \" % (t1_stop-t1_start))\n",
    "copy_matrix1=a\n",
    "t1_start = perf_counter()\n",
    "sorted(copy_matrix1)\n",
    "t1_stop = perf_counter() \n",
    "print(\"Встроенная: %s seconds \" % (t1_stop-t1_start))"
   ]
  },
  {
   "cell_type": "code",
   "execution_count": null,
   "metadata": {},
   "outputs": [],
   "source": []
  },
  {
   "cell_type": "code",
   "execution_count": null,
   "metadata": {},
   "outputs": [],
   "source": []
  }
 ],
 "metadata": {
  "kernelspec": {
   "display_name": "Python 3",
   "language": "python",
   "name": "python3"
  },
  "language_info": {
   "codemirror_mode": {
    "name": "ipython",
    "version": 3
   },
   "file_extension": ".py",
   "mimetype": "text/x-python",
   "name": "python",
   "nbconvert_exporter": "python",
   "pygments_lexer": "ipython3",
   "version": "3.8.5"
  }
 },
 "nbformat": 4,
 "nbformat_minor": 4
}
