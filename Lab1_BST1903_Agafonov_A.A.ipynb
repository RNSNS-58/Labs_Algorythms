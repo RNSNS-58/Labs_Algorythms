{
 "cells": [
  {
   "cell_type": "markdown",
   "metadata": {},
   "source": [
    "# Лабораторная работа №1\n",
    "Выполнил студент группы БСТ1903 Агафонов А.А"
   ]
  },
  {
   "cell_type": "markdown",
   "metadata": {},
   "source": [
    "## Задание №1\n",
    "Вывести фразу \"Hello, world\""
   ]
  },
  {
   "cell_type": "code",
   "execution_count": 1,
   "metadata": {},
   "outputs": [
    {
     "name": "stdout",
     "output_type": "stream",
     "text": [
      "Hello, World!\n"
     ]
    }
   ],
   "source": [
    "print(\"Hello, World!\")"
   ]
  },
  {
   "cell_type": "markdown",
   "metadata": {},
   "source": [
    "## Задание №2\n",
    "Создание случайной матрицы"
   ]
  },
  {
   "cell_type": "code",
   "execution_count": 2,
   "metadata": {},
   "outputs": [],
   "source": [
    "import random\n",
    "def random_matrix(m = 50, n = 50, min_limit = -250, max_limit = 1001):\n",
    "    return [[random.randint(min_limit, max_limit) for _ in range(n)] for _ in range(m)]"
   ]
  },
  {
   "cell_type": "code",
   "execution_count": 3,
   "metadata": {},
   "outputs": [
    {
     "name": "stdout",
     "output_type": "stream",
     "text": [
      "[2, 946, -210, 784, 612]\n",
      "[252, 89, 94, -218, 461]\n",
      "[300, 699, 740, 332, 76]\n",
      "[856, 328, 468, 288, 233]\n",
      "[999, -92, 70, 836, -234]\n"
     ]
    }
   ],
   "source": [
    "a=random_matrix(5,5,-250,1001)\n",
    "for i in range(5):\n",
    "    print(a[i])"
   ]
  },
  {
   "cell_type": "markdown",
   "metadata": {},
   "source": [
    "## Задание №3\n",
    "Реализовать методы сортировки строк числовой матрицы:\n",
    "выбором,вставкой,обменом,Шелла,турнирная,быстрая сортировка,пирамидальная\n",
    "Оценить время работы каждого алгоритма сортировки и сравнить его со временем стандартной функции сортировки"
   ]
  },
  {
   "cell_type": "code",
   "execution_count": 4,
   "metadata": {},
   "outputs": [],
   "source": [
    "# Сортировка выбором\n",
    "\n",
    "def vubor(array):\n",
    "    for i in range(len(array) - 1):\n",
    "        m = i\n",
    "        j = i + 1\n",
    "        while j < len(array):\n",
    "            if array[j] < array[m]:\n",
    "                m = j\n",
    "            j = j + 1\n",
    "        array[i], array[m] = array[m], array[i]"
   ]
  },
  {
   "cell_type": "code",
   "execution_count": 5,
   "metadata": {},
   "outputs": [
    {
     "name": "stdout",
     "output_type": "stream",
     "text": [
      "Исходный массив:\n",
      "[169, 742, 846, 175, -146, -135, 893, 749, -192, -246, 113, 738, -150, 723, 236, 873, -64, 751, 547, 91]\n",
      "Результирующий массив\n",
      "[-246, -192, -150, -146, -135, -64, 91, 113, 169, 175, 236, 547, 723, 738, 742, 749, 751, 846, 873, 893]\n"
     ]
    }
   ],
   "source": [
    "from random import randint\n",
    "n = 20\n",
    "min_lim = -250\n",
    "max_lim = 1012\n",
    "a=[randint(min_lim,max_lim) for i in range(n)]\n",
    "print (\"Исходный массив:\")\n",
    "print(a)\n",
    "print(\"Результирующий массив\")\n",
    "vubor(a)\n",
    "print(a)"
   ]
  },
  {
   "cell_type": "code",
   "execution_count": 6,
   "metadata": {},
   "outputs": [],
   "source": [
    "# Сортировка вставкой\n",
    "\n",
    "def vstavka(arr):\n",
    "    for i in range(1, len(arr)):\n",
    "        key= arr[i]\n",
    "        j = i - 1\n",
    "        while j >= 0 and arr[j] > key:\n",
    "            arr[j + 1] = arr[j]\n",
    "            j -= 1\n",
    "        arr[j + 1] = key"
   ]
  },
  {
   "cell_type": "code",
   "execution_count": 7,
   "metadata": {},
   "outputs": [
    {
     "name": "stdout",
     "output_type": "stream",
     "text": [
      "Исходный массив:\n",
      "[987, 37, 48, 186, 292, -10, -159, 342, 85, 717, 547, 292, 781, 702, 231, -179, 196, 605, 437, 927]\n",
      "Результирующий массив\n",
      "[-179, -159, -10, 37, 48, 85, 186, 196, 231, 292, 292, 342, 437, 547, 605, 702, 717, 781, 927, 987]\n"
     ]
    }
   ],
   "source": [
    "from random import randint\n",
    "n = 20\n",
    "min_lim = -250\n",
    "max_lim = 1012\n",
    "a=[randint(min_lim,max_lim) for i in range(n)]\n",
    "print (\"Исходный массив:\")\n",
    "print(a)\n",
    "print(\"Результирующий массив\")\n",
    "vstavka(a)\n",
    "print(a)"
   ]
  },
  {
   "cell_type": "code",
   "execution_count": 8,
   "metadata": {},
   "outputs": [],
   "source": [
    "# Сортировка обменом\n",
    "\n",
    "def obmen(arr):\n",
    "    for i in range(len(arr)):\n",
    "        for j in range(0, len(arr)-i-1): \n",
    "            if arr[j] > arr[j+1] : \n",
    "                arr[j], arr[j+1] = arr[j+1], arr[j]"
   ]
  },
  {
   "cell_type": "code",
   "execution_count": 9,
   "metadata": {},
   "outputs": [
    {
     "name": "stdout",
     "output_type": "stream",
     "text": [
      "Исходный массив:\n",
      "[189, 947, 179, 204, 237, 703, 947, 592, 315, 703, -63, 257, 216, 396, 591, 289, 784, 17, 888, 319]\n",
      "Результирующий массив\n",
      "[-63, 17, 179, 189, 204, 216, 237, 257, 289, 315, 319, 396, 591, 592, 703, 703, 784, 888, 947, 947]\n"
     ]
    }
   ],
   "source": [
    "from random import randint\n",
    "n = 20\n",
    "min_lim = -250\n",
    "max_lim = 1012\n",
    "a=[randint(min_lim,max_lim) for i in range(n)]\n",
    "print (\"Исходный массив:\")\n",
    "print(a)\n",
    "print(\"Результирующий массив\")\n",
    "obmen(a)\n",
    "print(a)"
   ]
  },
  {
   "cell_type": "code",
   "execution_count": 10,
   "metadata": {},
   "outputs": [],
   "source": [
    "# Сортировка Шелла\n",
    "\n",
    "def shell(arr):\n",
    "    last_index = len(arr) - 1\n",
    "    step = len(arr) // 2\n",
    "    while step > 0:\n",
    "        for i in range(step, last_index + 1, 1):\n",
    "            j = i\n",
    "            delta = j - step\n",
    "            while delta >= 0 and arr[delta] > arr[j]:\n",
    "                arr[delta], arr[j] = arr[j], arr[delta]\n",
    "                j = delta\n",
    "                delta = j - step\n",
    "        step //= 2"
   ]
  },
  {
   "cell_type": "code",
   "execution_count": 11,
   "metadata": {},
   "outputs": [
    {
     "name": "stdout",
     "output_type": "stream",
     "text": [
      "Исходный массив:\n",
      "[434, -166, 846, 463, 535, 636, 541, 571, -122, 787, 145, 707, 735, 769, 331, -71, -164, 230, 612, 331]\n",
      "Результирующий массив\n",
      "[-166, -164, -122, -71, 145, 230, 331, 331, 434, 463, 535, 541, 571, 612, 636, 707, 735, 769, 787, 846]\n"
     ]
    }
   ],
   "source": [
    "from random import randint\n",
    "n = 20\n",
    "min_lim = -250\n",
    "max_lim = 1012\n",
    "a=[randint(min_lim,max_lim) for i in range(n)]\n",
    "print (\"Исходный массив:\")\n",
    "print(a)\n",
    "print(\"Результирующий массив\")\n",
    "shell(a)\n",
    "print(a)"
   ]
  },
  {
   "cell_type": "code",
   "execution_count": 1,
   "metadata": {},
   "outputs": [],
   "source": [
    "# Быстрая сортировка\n",
    "\n",
    "def bustraya(arr, fst=0, lst=None):\n",
    "    if lst == None:\n",
    "        lst = len(arr) - 1  \n",
    "    if fst >= lst:\n",
    "        return\n",
    "    i, j = fst, lst\n",
    "    pivot = arr[(lst + fst) // 2]\n",
    " \n",
    "    while i <= j:\n",
    "        while arr[i] < pivot: i += 1\n",
    "        while arr[j] > pivot: j -= 1\n",
    "        if i <= j:\n",
    "            arr[i], arr[j] = arr[j], arr[i]\n",
    "            i, j = i + 1, j - 1\n",
    "            \n",
    "    bustraya(arr, fst, j)\n",
    "    bustraya(arr, i, lst)"
   ]
  },
  {
   "cell_type": "code",
   "execution_count": 2,
   "metadata": {},
   "outputs": [
    {
     "name": "stdout",
     "output_type": "stream",
     "text": [
      "Исходный массив:\n",
      "[315, 156, 154, -82, 680, 1009, -71, 649, 61, 317, 658, -198, -167, -46, 242, -144, 242, 473, 314, 29]\n",
      "Результирующий массив\n",
      "[-198, -167, -144, -82, -71, -46, 29, 61, 154, 156, 242, 242, 314, 315, 317, 473, 649, 658, 680, 1009]\n"
     ]
    }
   ],
   "source": [
    "from random import randint\n",
    "n = 20\n",
    "min_lim = -250\n",
    "max_lim = 1012\n",
    "a=[randint(min_lim,max_lim) for i in range(n)]\n",
    "print (\"Исходный массив:\")\n",
    "print(a)\n",
    "print(\"Результирующий массив\")\n",
    "bustraya(a)\n",
    "print(a)"
   ]
  },
  {
   "cell_type": "code",
   "execution_count": null,
   "metadata": {},
   "outputs": [],
   "source": [
    "# Турнирная сортировка\n",
    "\n",
    "def tournirnaya(arr):\n",
    "    tree = [None] * 2 * (len(arr) + len(arr) % 2)\n",
    "    index = len(tree) - len(arr) - len(arr) % 2      #Создание дерева\n",
    "    \n",
    "    for i, v in enumerate(arr):\n",
    "        tree[index + i] = (i, v)      #Заполнение дерева\n",
    "    \n",
    "    for j in range(len(arr)):\n",
    "        n = len(arr)\n",
    "        index = len(tree) - len(arr) - len(arr) % 2\n",
    "        while index > -1:\n",
    "            n = (n + 1) // 2\n",
    "            for i in range(n):\n",
    "                i = max(index + i * 2, 1) \n",
    "                if tree[i] != None and tree[i + 1] != None:\n",
    "                    if tree[i][1] < tree[i + 1][1]:\n",
    "                        tree[i // 2] = tree[i]               #работает по аналогии с турнирной сеткой\n",
    "                    else:\n",
    "                        tree[i // 2] = tree[i + 1]\n",
    "                else:\n",
    "                    tree[i // 2] = tree[i] if tree[i] != None else tree[i + 1]\n",
    "            index -= n\n",
    "\n",
    "        index, x = tree[0]\n",
    "        arr[j] = x\n",
    "        tree[len(tree) - len(arr) - len(arr) % 2 + index] = None"
   ]
  },
  {
   "cell_type": "code",
   "execution_count": null,
   "metadata": {},
   "outputs": [],
   "source": [
    "from random import randint\n",
    "n = 20\n",
    "min_lim = -250\n",
    "max_lim = 1012\n",
    "a=[randint(min_lim,max_lim) for i in range(n)]\n",
    "print (\"Исходный массив:\")\n",
    "print(a)\n",
    "print(\"Результирующий массив\")\n",
    "tournirnaya(a)\n",
    "print(a)"
   ]
  },
  {
   "cell_type": "code",
   "execution_count": 5,
   "metadata": {},
   "outputs": [],
   "source": [
    "# Пирамидальная сортировка\n",
    "\n",
    "# Процедура для преобразования в двоичную кучу поддерева с корневым узлом i, что является индексом в arr[]. n - размер кучи\n",
    "def heapify(arr, n, i):\n",
    "    largest = i # Initialize largest as root\n",
    "    l = 2 * i + 1   # left = 2*i + 1\n",
    "    r = 2 * i + 2   # right = 2*i + 2\n",
    "\n",
    "  # Проверяем существует ли левый дочерний элемент больший, чем корень\n",
    "\n",
    "    if l < n and arr[i] < arr[l]:\n",
    "        largest = l\n",
    "\n",
    "    # Проверяем существует ли правый дочерний элемент больший, чем корень\n",
    "\n",
    "    if r < n and arr[largest] < arr[r]:\n",
    "        largest = r\n",
    "\n",
    "    # Заменяем корень, если нужно\n",
    "    if largest != i:\n",
    "        arr[i],arr[largest] = arr[largest],arr[i] # свап\n",
    "\n",
    "        # Применяем heapify к корню.\n",
    "        heapify(arr, n, largest)\n",
    "\n",
    "# Основная функция для сортировки массива заданного размера\n",
    "def heapSort(arr):\n",
    "    n = len(arr)\n",
    "\n",
    "    # Построение max-heap.\n",
    "    for i in range(n, -1, -1):\n",
    "        heapify(arr, n, i)\n",
    "\n",
    "    # Один за другим извлекаем элементы\n",
    "    for i in range(n-1, 0, -1):\n",
    "        arr[i], arr[0] = arr[0], arr[i] # свап \n",
    "        heapify(arr, i, 0)\n",
    "\n",
    "# Управляющий код для тестирования\n",
    "arr = [ 12, 11, 13, 5, 6, 7]\n",
    "heapSort(arr)\n",
    "n = len(arr)"
   ]
  },
  {
   "cell_type": "code",
   "execution_count": 6,
   "metadata": {},
   "outputs": [
    {
     "name": "stdout",
     "output_type": "stream",
     "text": [
      "Исходный массив:\n",
      "[-111, -82, 958, 466, 100, -178, 213, -9, 751, -249, 174, 770, 583, 259, 699, 741, 600, 805, 100, 808]\n",
      "Результирующий массив\n",
      "[-249, -178, -111, -82, -9, 100, 100, 174, 213, 259, 466, 583, 600, 699, 741, 751, 770, 805, 808, 958]\n"
     ]
    }
   ],
   "source": [
    "from random import randint\n",
    "n = 20\n",
    "min_lim = -250\n",
    "max_lim = 1012\n",
    "a=[randint(min_lim,max_lim) for i in range(n)]\n",
    "print (\"Исходный массив:\")\n",
    "print(a)\n",
    "print(\"Результирующий массив\")\n",
    "heapSort(a)\n",
    "print(a)"
   ]
  },
  {
   "cell_type": "code",
   "execution_count": null,
   "metadata": {},
   "outputs": [],
   "source": [
    "#Сравнение времени сортировки"
   ]
  },
  {
   "cell_type": "code",
   "execution_count": null,
   "metadata": {},
   "outputs": [],
   "source": [
    "import time\n",
    "from time import perf_counter\n",
    "from random import randint\n",
    "n = 20\n",
    "min_lim = -250\n",
    "max_lim = 1012\n",
    "A=[randint(min_lim,max_lim) for i in range(n)]\n",
    "copy_1 = A\n",
    "t1_start = perf_counter()\n",
    "B = tournirnaya(copy_1)\n",
    "t1_stop = perf_counter()\n",
    "print(\"Турнирная: %s seconds\" % (t1_stop-t1_start))\n",
    "copy_1 = A\n",
    "t1_start = perf_counter()\n",
    "C = heapSort(copy_1)\n",
    "t1_stop = perf_counter()\n",
    "print(\"Пирамидальная: %s seconds\" % (t1_stop-t1_start))\n",
    "copy_1 = A\n",
    "t1_start = perf_counter()\n",
    "D = bustraya(copy_1)\n",
    "t1_stop = perf_counter()\n",
    "print(\"Быстрая: %s seconds\" % (t1_stop-t1_start))\n",
    "copy_1 = A\n",
    "t1_start = perf_counter()\n",
    "E = vstavka(copy_1)\n",
    "t1_stop = perf_counter()\n",
    "print(\"Вставка: %s seconds\" % (t1_stop-t1_start))\n",
    "copy_1 = A\n",
    "t1_start = perf_counter()\n",
    "C = shell(copy_1)\n",
    "t1_stop = perf_counter()\n",
    "print(\"Шелл: %s seconds\" % (t1_stop-t1_start))\n",
    "copy_1 = A\n",
    "t1_start = perf_counter()\n",
    "D = obmen(copy_1)\n",
    "t1_stop = perf_counter()\n",
    "print(\"Обмен: %s seconds\" % (t1_stop-t1_start))\n",
    "copy_1 = A\n",
    "t1_start = perf_counter()\n",
    "E = vubor(copy_1)\n",
    "t1_stop = perf_counter()\n",
    "print(\"Выбор: %s seconds\" % (t1_stop-t1_start))\n",
    "copy_1 = A\n",
    "t1_start = perf_counter()\n",
    "sorted(copy_1)\n",
    "t1_stop = perf_counter()\n",
    "print(\"Встроенная сортировка: %s seconds\" % (t1_stop-t1_start))"
   ]
  },
  {
   "cell_type": "code",
   "execution_count": null,
   "metadata": {},
   "outputs": [],
   "source": []
  },
  {
   "cell_type": "code",
   "execution_count": null,
   "metadata": {},
   "outputs": [],
   "source": []
  }
 ],
 "metadata": {
  "kernelspec": {
   "display_name": "Python 3",
   "language": "python",
   "name": "python3"
  },
  "language_info": {
   "codemirror_mode": {
    "name": "ipython",
    "version": 3
   },
   "file_extension": ".py",
   "mimetype": "text/x-python",
   "name": "python",
   "nbconvert_exporter": "python",
   "pygments_lexer": "ipython3",
   "version": "3.8.5"
  }
 },
 "nbformat": 4,
 "nbformat_minor": 4
}
