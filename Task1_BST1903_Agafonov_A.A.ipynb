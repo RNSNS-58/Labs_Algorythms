{
 "cells": [
  {
   "cell_type": "markdown",
   "metadata": {},
   "source": [
    "# Контрольные задачи по дисциплине СиАОД №1\n",
    "\n",
    "## Выполнил студент группы БСТ1903 Агафонов А.А"
   ]
  },
  {
   "cell_type": "markdown",
   "metadata": {},
   "source": [
    "### Задача №1 «Треугольник с максимальным периметром»\n",
    "\n",
    "Массив A состоит из целых положительных чисел - длин отрезков. Составьте из трех отрезков такой треугольник, чтобы его периметр был максимально возможным. Если невозможно\n",
    "составить треугольник с положительной площадью - функция возвращает 0.\n"
   ]
  },
  {
   "cell_type": "markdown",
   "metadata": {},
   "source": [
    "#### Генерация массива"
   ]
  },
  {
   "cell_type": "code",
   "execution_count": 1,
   "metadata": {},
   "outputs": [],
   "source": [
    "import random\n",
    "\n",
    "def generateArr_1(size):\n",
    "    if size<3: size=3\n",
    "    elif size>10000: size=10000\n",
    "    arr=[]\n",
    "    for i in range(size):\n",
    "        arr.append(random.randint(1,10**6))\n",
    "    return arr"
   ]
  },
  {
   "cell_type": "markdown",
   "metadata": {},
   "source": [
    "#### Функция расчета периметра и площади"
   ]
  },
  {
   "cell_type": "code",
   "execution_count": 2,
   "metadata": {},
   "outputs": [],
   "source": [
    "import math\n",
    "\n",
    "# Расчет периметра\n",
    "def triangle_P(a,b,c):\n",
    "    P=a+b+c\n",
    "    return P\n",
    "\n",
    "# Расчет площади\n",
    "def triangle_S(a,b,c,P):\n",
    "    p=P/2\n",
    "    temp_S=p*(p-a)*(p-b)*(p-c) \n",
    "    if temp_S>0:\n",
    "        S=math.sqrt(temp_S)\n",
    "        return S\n",
    "    else:\n",
    "        return 0"
   ]
  },
  {
   "cell_type": "markdown",
   "metadata": {},
   "source": [
    "#### Функция Задачи 1"
   ]
  },
  {
   "cell_type": "code",
   "execution_count": 3,
   "metadata": {},
   "outputs": [],
   "source": [
    "def exercise_1():\n",
    "    # Для ввода массива:\n",
    "    # arr=[1,2,1]\n",
    "    # Для генерации массива:\n",
    "    arr=generateArr_1(10)\n",
    "    arr.sort(reverse=True)\n",
    "    \n",
    "    s=0\n",
    "    i=0\n",
    "    while(s==0 and i<len(arr)-2):\n",
    "        p=triangle_P(arr[i],arr[i+1],arr[i+2])\n",
    "        s=triangle_S(arr[i],arr[i+1],arr[i+2],p)\n",
    "        i+=1\n",
    "        \n",
    "    i-=1\n",
    "\n",
    "    print('Исходный массив: A =',arr)\n",
    "    print(\"Максимальная площадь: \", s)\n",
    "    print('\\nСтороны треугольника:', arr[i], arr[i+1], arr[i+2])\n",
    "    print ('\\nМаксимальный периметр: P =',p)"
   ]
  },
  {
   "cell_type": "code",
   "execution_count": 4,
   "metadata": {},
   "outputs": [
    {
     "name": "stdout",
     "output_type": "stream",
     "text": [
      "Исходный массив: A = [935270, 879059, 771725, 537104, 381442, 340743, 309225, 251527, 118191, 105620]\n",
      "Максимальная площадь:  315955520529.4575\n",
      "\n",
      "Стороны треугольника: 935270 879059 771725\n",
      "\n",
      "Максимальный периметр: P = 2586054\n"
     ]
    }
   ],
   "source": [
    "exercise_1()"
   ]
  },
  {
   "cell_type": "markdown",
   "metadata": {},
   "source": [
    "### Задача №2 «Максимальное число»\n",
    "\n",
    "Дан массив неотрицательных целых чисел nums. Расположите их в таком порядке, чтобы\n",
    "вместе они образовали максимально возможное число"
   ]
  },
  {
   "cell_type": "markdown",
   "metadata": {},
   "source": [
    "#### Генерация массива"
   ]
  },
  {
   "cell_type": "code",
   "execution_count": 5,
   "metadata": {},
   "outputs": [],
   "source": [
    "def generateArr_2(size):\n",
    "    if size<1: size=1\n",
    "    elif size>100: size=100\n",
    "    arr=[]\n",
    "    for i in range(size):\n",
    "        arr.append(random.randint(0,10**9))\n",
    "    return arr"
   ]
  },
  {
   "cell_type": "markdown",
   "metadata": {},
   "source": [
    "#### Сравнение чисел"
   ]
  },
  {
   "cell_type": "code",
   "execution_count": 6,
   "metadata": {},
   "outputs": [],
   "source": [
    "def value1_bigger(int_val1, int_val2):\n",
    "    val1=str(int_val1)\n",
    "    val2=str(int_val2)\n",
    "    \n",
    "    \n",
    "    if int(val1+val2)>int(val2+val1):\n",
    "        return True\n",
    "    else:\n",
    "        return False"
   ]
  },
  {
   "cell_type": "markdown",
   "metadata": {},
   "source": [
    "#### Функция Задачи 2"
   ]
  },
  {
   "cell_type": "code",
   "execution_count": 11,
   "metadata": {},
   "outputs": [],
   "source": [
    "def exercise_2():\n",
    "    # Для ввода массива:\n",
    "    arr=[5555,5205,520]\n",
    "    # Для генерации массива:\n",
    "    # arr=generateArr_2(10)\n",
    "    print('Исходный массив:\\n\\n A =',arr)\n",
    "    \n",
    "    max_val=\"\"\n",
    "\n",
    "    for i in range(len(arr)-1):\n",
    "        max_elem=arr[i]\n",
    "        max_index=i\n",
    "\n",
    "        for j in range(i+1, len(arr)):\n",
    "            if value1_bigger(arr[j],max_elem):\n",
    "                max_elem=arr[j]\n",
    "                max_index=j\n",
    "        \n",
    "        arr[max_index],arr[i]=arr[i],arr[max_index]\n",
    "\n",
    "    for i in range(len(arr)):\n",
    "        max_val+=str(arr[i])\n",
    "\n",
    "    print(\"\\nОтсортированный массив:\\n\\n A =\",arr)\n",
    "    print(\"\\nМаксимально возможное число:\\n\\n\",max_val)"
   ]
  },
  {
   "cell_type": "code",
   "execution_count": 13,
   "metadata": {},
   "outputs": [
    {
     "name": "stdout",
     "output_type": "stream",
     "text": [
      "Исходный массив:\n",
      "\n",
      " A = [5555, 5205, 520]\n",
      "\n",
      "Отсортированный массив:\n",
      "\n",
      " A = [5555, 5205, 520]\n",
      "\n",
      "Максимально возможное число:\n",
      "\n",
      " 55555205520\n"
     ]
    }
   ],
   "source": [
    "exercise_2()"
   ]
  },
  {
   "cell_type": "markdown",
   "metadata": {},
   "source": [
    "### Задача №3 «Сортировка диагоналей в матрице»\n",
    "\n",
    "Дана матрица mat размером m * n, значения ­ целочисленные. Напишите функцию, сортирующую каждую диагональ матрицы по возрастанию и возвращающую получившуюся матрицу."
   ]
  },
  {
   "cell_type": "markdown",
   "metadata": {},
   "source": [
    "#### Генерация массива для матрицы и вывод матрицы в столбик"
   ]
  },
  {
   "cell_type": "code",
   "execution_count": 14,
   "metadata": {},
   "outputs": [],
   "source": [
    "def generateArr_3(size):\n",
    "    if size<1: size=1\n",
    "    elif size>100: size=100\n",
    "    arr = []\n",
    "    for i in range(size):\n",
    "        arr.append(random.randint(1,100))\n",
    "    return arr\n",
    "\n",
    "def print_mat(mat):\n",
    "    for i in range(len(mat)):\n",
    "        print(mat[i], \"\")"
   ]
  },
  {
   "cell_type": "markdown",
   "metadata": {},
   "source": [
    "#### Метод выбора и вставки чисел в диагонали"
   ]
  },
  {
   "cell_type": "code",
   "execution_count": 15,
   "metadata": {},
   "outputs": [],
   "source": [
    "# Берет числа из диагонали\n",
    "def take_nums(mat, row, col):\n",
    "    temp = []\n",
    "    while row < len(mat) and col < len(mat[0]):\n",
    "        temp.append(mat[row][col])\n",
    "        row += 1\n",
    "        col += 1\n",
    "    return temp\n",
    "\n",
    "# Вставляет числа в диагональ\n",
    "def insert_nums(mat, row, col, temp):\n",
    "    i = 0\n",
    "    while row < len(mat) and col < len(mat[0]) and i < len(temp):\n",
    "        mat[row][col]=temp[i]\n",
    "        row += 1\n",
    "        col += 1\n",
    "        i += 1"
   ]
  },
  {
   "cell_type": "markdown",
   "metadata": {},
   "source": [
    "#### Функция Задачи 3"
   ]
  },
  {
   "cell_type": "code",
   "execution_count": 18,
   "metadata": {},
   "outputs": [],
   "source": [
    "def exercise_3():\n",
    "    # Для ввода массива:\n",
    "    # mat=[[11, 25, 66, 10, 69, 70], [23, 55, 17, 45, 15, 52], [75, 31, 36, 44, 58, 80], [22, 27, 33, 25, 68, 40], [84, 28, 14, 11, 50, 50]]\n",
    "    # Для генерации массива:\n",
    "    mat = []\n",
    "    m = 4  # строки row\n",
    "    n = 5  # столбцы col\n",
    "    for i in range(m):\n",
    "        mat.append(generateArr_3(n))\n",
    "\n",
    "    print(\"Исходная матрица:\\n\")\n",
    "    print_mat(mat)\n",
    "\n",
    "    # Часть по строчкам\n",
    "    for i in range(m-1):\n",
    "        temp = take_nums(mat, i, 0)\n",
    "        temp.sort()\n",
    "        insert_nums(mat, i, 0, temp)\n",
    "\n",
    "    # Часть по столбцам\n",
    "    for i in range(1,n-1):\n",
    "        temp = take_nums(mat, 0, i)\n",
    "        temp.sort()\n",
    "        insert_nums(mat, 0, i, temp)\n",
    "\n",
    "    print(\"\\n\\nОтсортированная матрица:\\n\")\n",
    "    print_mat(mat)"
   ]
  },
  {
   "cell_type": "code",
   "execution_count": 19,
   "metadata": {},
   "outputs": [
    {
     "name": "stdout",
     "output_type": "stream",
     "text": [
      "Исходная матрица:\n",
      "\n",
      "[13, 28, 83, 86, 73] \n",
      "[45, 86, 87, 53, 12] \n",
      "[6, 71, 69, 22, 17] \n",
      "[72, 57, 66, 15, 93] \n",
      "\n",
      "\n",
      "Отсортированная матрица:\n",
      "\n",
      "[13, 22, 17, 12, 73] \n",
      "[45, 15, 28, 53, 86] \n",
      "[6, 66, 69, 87, 83] \n",
      "[72, 57, 71, 86, 93] \n"
     ]
    }
   ],
   "source": [
    "exercise_3()"
   ]
  },
  {
   "cell_type": "code",
   "execution_count": null,
   "metadata": {},
   "outputs": [],
   "source": []
  }
 ],
 "metadata": {
  "kernelspec": {
   "display_name": "Python 3",
   "language": "python",
   "name": "python3"
  },
  "language_info": {
   "codemirror_mode": {
    "name": "ipython",
    "version": 3
   },
   "file_extension": ".py",
   "mimetype": "text/x-python",
   "name": "python",
   "nbconvert_exporter": "python",
   "pygments_lexer": "ipython3",
   "version": "3.8.5"
  }
 },
 "nbformat": 4,
 "nbformat_minor": 4
}
