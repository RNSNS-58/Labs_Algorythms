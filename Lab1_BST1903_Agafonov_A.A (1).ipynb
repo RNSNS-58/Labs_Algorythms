{
 "cells": [
  {
   "cell_type": "markdown",
   "metadata": {},
   "source": [
    "# Лабораторная работа №1\n",
    "Выполнил студент группы БСТ1903 Агафонов А.А"
   ]
  },
  {
   "cell_type": "markdown",
   "metadata": {},
   "source": [
    "## Задание №1\n",
    "Вывести фразу \"Hello, world\""
   ]
  },
  {
   "cell_type": "code",
   "execution_count": 1,
   "metadata": {},
   "outputs": [
    {
     "name": "stdout",
     "output_type": "stream",
     "text": [
      "Hello, World!\n"
     ]
    }
   ],
   "source": [
    "print(\"Hello, World!\")"
   ]
  },
  {
   "cell_type": "markdown",
   "metadata": {},
   "source": [
    "## Задание №2\n",
    "Создание случайной матрицы"
   ]
  },
  {
   "cell_type": "code",
   "execution_count": 2,
   "metadata": {},
   "outputs": [],
   "source": [
    "import random\n",
    "def random_matrix(m = 50, n = 50, min_limit = -250, max_limit = 1001):\n",
    "    return [[random.randint(min_limit, max_limit) for _ in range(n)] for _ in range(m)]"
   ]
  },
  {
   "cell_type": "code",
   "execution_count": 3,
   "metadata": {},
   "outputs": [
    {
     "name": "stdout",
     "output_type": "stream",
     "text": [
      "[202, 543, 234, 454, 735]\n",
      "[705, 862, 718, 23, 571]\n",
      "[883, 931, -120, 133, 226]\n",
      "[760, 266, 865, -129, 52]\n",
      "[294, 187, 106, 241, 292]\n"
     ]
    }
   ],
   "source": [
    "a=random_matrix(5,5,-250,1001)\n",
    "for i in range(5):\n",
    "    print(a[i])"
   ]
  },
  {
   "cell_type": "markdown",
   "metadata": {},
   "source": [
    "## Задание №3\n",
    "Реализовать методы сортировки строк числовой матрицы:\n",
    "выбором,вставкой,обменом,Шелла,турнирная,быстрая сортировка,пирамидальная\n",
    "Оценить время работы каждого алгоритма сортировки и сравнить его со временем стандартной функции сортировки"
   ]
  },
  {
   "cell_type": "code",
   "execution_count": 4,
   "metadata": {},
   "outputs": [],
   "source": [
    "# Сортировка выбором\n",
    "\n",
    "def vubor(array):\n",
    "    for i in range(len(array) - 1):\n",
    "        m = i\n",
    "        j = i + 1\n",
    "        while j < len(array):\n",
    "            if array[j] < array[m]:\n",
    "                m = j\n",
    "            j = j + 1\n",
    "        array[i], array[m] = array[m], array[i]"
   ]
  },
  {
   "cell_type": "code",
   "execution_count": 5,
   "metadata": {},
   "outputs": [
    {
     "name": "stdout",
     "output_type": "stream",
     "text": [
      "Исходный массив:\n",
      "[-133, 168, 964, 845, 896, 622, 181, 752, 811, 360, 505, 462, 882, 64, 99, 267, 559, 1005, 71, 129]\n",
      "Результирующий массив\n",
      "[-133, 64, 71, 99, 129, 168, 181, 267, 360, 462, 505, 559, 622, 752, 811, 845, 882, 896, 964, 1005]\n"
     ]
    }
   ],
   "source": [
    "from random import randint\n",
    "n = 20\n",
    "min_lim = -250\n",
    "max_lim = 1012\n",
    "a=[randint(min_lim,max_lim) for i in range(n)]\n",
    "print (\"Исходный массив:\")\n",
    "print(a)\n",
    "print(\"Результирующий массив\")\n",
    "vubor(a)\n",
    "print(a)"
   ]
  },
  {
   "cell_type": "code",
   "execution_count": 6,
   "metadata": {},
   "outputs": [],
   "source": [
    "# Сортировка вставкой\n",
    "\n",
    "def vstavka(arr):\n",
    "    for i in range(1, len(arr)):\n",
    "        key= arr[i]\n",
    "        j = i - 1\n",
    "        while j >= 0 and arr[j] > key:\n",
    "            arr[j + 1] = arr[j]\n",
    "            j -= 1\n",
    "        arr[j + 1] = key"
   ]
  },
  {
   "cell_type": "code",
   "execution_count": 7,
   "metadata": {},
   "outputs": [
    {
     "name": "stdout",
     "output_type": "stream",
     "text": [
      "Исходный массив:\n",
      "[583, 963, 121, 735, -180, 338, 197, 937, 781, 653, 885, 103, -22, -6, -16, 382, 319, 46, 868, 661]\n",
      "Результирующий массив\n",
      "[-180, -22, -16, -6, 46, 103, 121, 197, 319, 338, 382, 583, 653, 661, 735, 781, 868, 885, 937, 963]\n"
     ]
    }
   ],
   "source": [
    "from random import randint\n",
    "n = 20\n",
    "min_lim = -250\n",
    "max_lim = 1012\n",
    "a=[randint(min_lim,max_lim) for i in range(n)]\n",
    "print (\"Исходный массив:\")\n",
    "print(a)\n",
    "print(\"Результирующий массив\")\n",
    "vstavka(a)\n",
    "print(a)"
   ]
  },
  {
   "cell_type": "code",
   "execution_count": 8,
   "metadata": {},
   "outputs": [],
   "source": [
    "# Сортировка обменом\n",
    "\n",
    "def obmen(arr):\n",
    "    for i in range(len(arr)):\n",
    "        for j in range(0, len(arr)-i-1): \n",
    "            if arr[j] > arr[j+1] : \n",
    "                arr[j], arr[j+1] = arr[j+1], arr[j]"
   ]
  },
  {
   "cell_type": "code",
   "execution_count": 21,
   "metadata": {},
   "outputs": [
    {
     "name": "stdout",
     "output_type": "stream",
     "text": [
      "Исходный массив:\n",
      "[5, 337, 183, -7, 655, 135, -49, 334, 633, 832, -44, -116, 845, 49, 968, 116, 258, -157, -152, 355]\n",
      "Результирующий массив\n",
      "[-157, -152, -116, -49, -44, -7, 5, 49, 116, 135, 183, 258, 334, 337, 355, 633, 655, 832, 845, 968]\n"
     ]
    }
   ],
   "source": [
    "from random import randint\n",
    "n = 20\n",
    "min_lim = -250\n",
    "max_lim = 1012\n",
    "a=[randint(min_lim,max_lim) for i in range(n)]\n",
    "print (\"Исходный массив:\")\n",
    "print(a)\n",
    "print(\"Результирующий массив\")\n",
    "obmen(a)\n",
    "print(a)"
   ]
  },
  {
   "cell_type": "code",
   "execution_count": 10,
   "metadata": {},
   "outputs": [],
   "source": [
    "# Сортировка Шелла\n",
    "\n",
    "def shell(arr):\n",
    "    last_index = len(arr) - 1\n",
    "    step = len(arr) // 2\n",
    "    while step > 0:\n",
    "        for i in range(step, last_index + 1, 1):\n",
    "            j = i\n",
    "            delta = j - step\n",
    "            while delta >= 0 and arr[delta] > arr[j]:\n",
    "                arr[delta], arr[j] = arr[j], arr[delta]\n",
    "                j = delta\n",
    "                delta = j - step\n",
    "        step //= 2"
   ]
  },
  {
   "cell_type": "code",
   "execution_count": 11,
   "metadata": {},
   "outputs": [
    {
     "name": "stdout",
     "output_type": "stream",
     "text": [
      "Исходный массив:\n",
      "[364, 177, 263, 602, 617, 212, 666, 864, 857, -137, 819, 504, 90, 518, 916, -203, 17, 841, 146, 523]\n",
      "Результирующий массив\n",
      "[-203, -137, 17, 90, 146, 177, 212, 263, 364, 504, 518, 523, 602, 617, 666, 819, 841, 857, 864, 916]\n"
     ]
    }
   ],
   "source": [
    "from random import randint\n",
    "n = 20\n",
    "min_lim = -250\n",
    "max_lim = 1012\n",
    "a=[randint(min_lim,max_lim) for i in range(n)]\n",
    "print (\"Исходный массив:\")\n",
    "print(a)\n",
    "print(\"Результирующий массив\")\n",
    "shell(a)\n",
    "print(a)"
   ]
  },
  {
   "cell_type": "code",
   "execution_count": 12,
   "metadata": {},
   "outputs": [],
   "source": [
    "# Быстрая сортировка\n",
    "\n",
    "def bustraya(arr, fst=0, lst=None):\n",
    "    if lst == None:\n",
    "        lst = len(arr) - 1  \n",
    "    if fst >= lst:\n",
    "        return\n",
    "    i, j = fst, lst\n",
    "    pivot = arr[(lst + fst) // 2]\n",
    " \n",
    "    while i <= j:\n",
    "        while arr[i] < pivot: i += 1\n",
    "        while arr[j] > pivot: j -= 1\n",
    "        if i <= j:\n",
    "            arr[i], arr[j] = arr[j], arr[i]\n",
    "            i, j = i + 1, j - 1\n",
    "            \n",
    "    bustraya(arr, fst, j)\n",
    "    bustraya(arr, i, lst)"
   ]
  },
  {
   "cell_type": "code",
   "execution_count": 13,
   "metadata": {},
   "outputs": [
    {
     "name": "stdout",
     "output_type": "stream",
     "text": [
      "Исходный массив:\n",
      "[152, 160, 764, 997, 151, 212, 204, 985, 701, 435, 899, 703, 613, 711, 177, 993, 622, 309, 544, 418]\n",
      "Результирующий массив\n",
      "[151, 152, 160, 177, 204, 212, 309, 418, 435, 544, 613, 622, 701, 703, 711, 764, 899, 985, 993, 997]\n"
     ]
    }
   ],
   "source": [
    "from random import randint\n",
    "n = 20\n",
    "min_lim = -250\n",
    "max_lim = 1012\n",
    "a=[randint(min_lim,max_lim) for i in range(n)]\n",
    "print (\"Исходный массив:\")\n",
    "print(a)\n",
    "print(\"Результирующий массив\")\n",
    "bustraya(a)\n",
    "print(a)"
   ]
  },
  {
   "cell_type": "code",
   "execution_count": 14,
   "metadata": {},
   "outputs": [],
   "source": [
    "# Турнирная сортировка\n",
    "\n",
    "def tournirnaya(arr):\n",
    "    tree = [None] * 2 * (len(arr) + len(arr) % 2)\n",
    "    index = len(tree) - len(arr) - len(arr) % 2      #Создание дерева\n",
    "    \n",
    "    for i, v in enumerate(arr):\n",
    "        tree[index + i] = (i, v)      #Заполнение дерева\n",
    "    \n",
    "    for j in range(len(arr)):\n",
    "        n = len(arr)\n",
    "        index = len(tree) - len(arr) - len(arr) % 2\n",
    "        while index > -1:\n",
    "            n = (n + 1) // 2\n",
    "            for i in range(n):\n",
    "                i = max(index + i * 2, 1) \n",
    "                if tree[i] != None and tree[i + 1] != None:\n",
    "                    if tree[i][1] < tree[i + 1][1]:\n",
    "                        tree[i // 2] = tree[i]               #работает по аналогии с турнирной сеткой\n",
    "                    else:\n",
    "                        tree[i // 2] = tree[i + 1]\n",
    "                else:\n",
    "                    tree[i // 2] = tree[i] if tree[i] != None else tree[i + 1]\n",
    "            index -= n\n",
    "\n",
    "        index, x = tree[0]\n",
    "        arr[j] = x\n",
    "        tree[len(tree) - len(arr) - len(arr) % 2 + index] = None"
   ]
  },
  {
   "cell_type": "code",
   "execution_count": 15,
   "metadata": {},
   "outputs": [
    {
     "name": "stdout",
     "output_type": "stream",
     "text": [
      "Исходный массив:\n",
      "[396, 94, 688, -14, 428, 534, 11, 139, -93, 579, 595, 454, 24, 870, 823, 262, 690, -78, 704, 143]\n",
      "Результирующий массив\n",
      "[-93, -78, -14, 11, 24, 94, 139, 143, 262, 396, 428, 454, 534, 579, 595, 688, 690, 704, 823, 870]\n"
     ]
    }
   ],
   "source": [
    "from random import randint\n",
    "n = 20\n",
    "min_lim = -250\n",
    "max_lim = 1012\n",
    "a=[randint(min_lim,max_lim) for i in range(n)]\n",
    "print (\"Исходный массив:\")\n",
    "print(a)\n",
    "print(\"Результирующий массив\")\n",
    "tournirnaya(a)\n",
    "print(a)"
   ]
  },
  {
   "cell_type": "code",
   "execution_count": 16,
   "metadata": {},
   "outputs": [],
   "source": [
    "# Пирамидальная сортировка\n",
    "\n",
    "def heapify(nums, heap_size, root_index):  \n",
    "    largest = root_index\n",
    "    left_child = (2 * root_index) + 1\n",
    "    right_child = (2 * root_index) + 2\n",
    "    if left_child < heap_size and nums[left_child] > nums[largest]:\n",
    "        largest = left_child\n",
    "    if right_child < heap_size and nums[right_child] > nums[largest]:\n",
    "        largest = right_child\n",
    "    if largest != root_index:\n",
    "        nums[root_index], nums[largest] = nums[largest], nums[root_index]\n",
    "        heapify(nums, heap_size, largest)\n",
    "def heap_sort(nums):  \n",
    "    n = len(nums)\n",
    "    for i in range(n, -1, -1):\n",
    "        heapify(nums, n, i)\n",
    "    for i in range(n - 1, 0, -1):\n",
    "        nums[i], nums[0] = nums[0], nums[i]\n",
    "        heapify(nums, i, 0)"
   ]
  },
  {
   "cell_type": "code",
   "execution_count": 17,
   "metadata": {},
   "outputs": [
    {
     "name": "stdout",
     "output_type": "stream",
     "text": [
      "Исходный массив:\n",
      "[660, -188, 778, -192, -1, -15, 395, 159, 986, -176, 424, 917, 433, 992, -249, 859, 806, -200, 243, 781]\n",
      "Результирующий массив\n",
      "[-249, -200, -192, -188, -176, -15, -1, 159, 243, 395, 424, 433, 660, 778, 781, 806, 859, 917, 986, 992]\n"
     ]
    }
   ],
   "source": [
    "from random import randint\n",
    "n = 20\n",
    "min_lim = -250\n",
    "max_lim = 1012\n",
    "a=[randint(min_lim,max_lim) for i in range(n)]\n",
    "print (\"Исходный массив:\")\n",
    "print(a)\n",
    "print(\"Результирующий массив\")\n",
    "heap_sort(a)\n",
    "print(a)"
   ]
  },
  {
   "cell_type": "code",
   "execution_count": 18,
   "metadata": {},
   "outputs": [],
   "source": [
    "#Сравнение времени сортировки"
   ]
  },
  {
   "cell_type": "code",
   "execution_count": 20,
   "metadata": {},
   "outputs": [
    {
     "name": "stdout",
     "output_type": "stream",
     "text": [
      "Турнирная: 0.00033519999999498395 seconds\n",
      "Пирамидальная: 9.610000006432529e-05 seconds\n",
      "Быстрая: 5.5800000041017483e-05 seconds\n",
      "Вставка: 4.3100000084450585e-05 seconds\n",
      "Шелл: 5.020000003241876e-05 seconds\n",
      "Обмен: 6.430000007640047e-05 seconds\n",
      "Выбор: 7.440000001679437e-05 seconds\n",
      "Встроенная сортировка: 3.739999999652355e-05 seconds\n"
     ]
    }
   ],
   "source": [
    "import time\n",
    "from time import perf_counter\n",
    "from random import randint\n",
    "n = 20\n",
    "min_lim = -250\n",
    "max_lim = 1012\n",
    "A=[randint(min_lim,max_lim) for i in range(n)]\n",
    "copy_1 = A\n",
    "t1_start = perf_counter()\n",
    "B = tournirnaya(copy_1)\n",
    "t1_stop = perf_counter()\n",
    "print(\"Турнирная: %s seconds\" % (t1_stop-t1_start))\n",
    "copy_1 = A\n",
    "t1_start = perf_counter()\n",
    "C = heap_sort(copy_1)\n",
    "t1_stop = perf_counter()\n",
    "print(\"Пирамидальная: %s seconds\" % (t1_stop-t1_start))\n",
    "copy_1 = A\n",
    "t1_start = perf_counter()\n",
    "D = bustraya(copy_1)\n",
    "t1_stop = perf_counter()\n",
    "print(\"Быстрая: %s seconds\" % (t1_stop-t1_start))\n",
    "copy_1 = A\n",
    "t1_start = perf_counter()\n",
    "E = vstavka(copy_1)\n",
    "t1_stop = perf_counter()\n",
    "print(\"Вставка: %s seconds\" % (t1_stop-t1_start))\n",
    "copy_1 = A\n",
    "t1_start = perf_counter()\n",
    "C = shell(copy_1)\n",
    "t1_stop = perf_counter()\n",
    "print(\"Шелл: %s seconds\" % (t1_stop-t1_start))\n",
    "copy_1 = A\n",
    "t1_start = perf_counter()\n",
    "D = obmen(copy_1)\n",
    "t1_stop = perf_counter()\n",
    "print(\"Обмен: %s seconds\" % (t1_stop-t1_start))\n",
    "copy_1 = A\n",
    "t1_start = perf_counter()\n",
    "E = vubor(copy_1)\n",
    "t1_stop = perf_counter()\n",
    "print(\"Выбор: %s seconds\" % (t1_stop-t1_start))\n",
    "copy_1 = A\n",
    "t1_start = perf_counter()\n",
    "sorted(copy_1)\n",
    "t1_stop = perf_counter()\n",
    "print(\"Встроенная сортировка: %s seconds\" % (t1_stop-t1_start))"
   ]
  },
  {
   "cell_type": "code",
   "execution_count": null,
   "metadata": {},
   "outputs": [],
   "source": []
  },
  {
   "cell_type": "code",
   "execution_count": null,
   "metadata": {},
   "outputs": [],
   "source": []
  }
 ],
 "metadata": {
  "kernelspec": {
   "display_name": "Python 3",
   "language": "python",
   "name": "python3"
  },
  "language_info": {
   "codemirror_mode": {
    "name": "ipython",
    "version": 3
   },
   "file_extension": ".py",
   "mimetype": "text/x-python",
   "name": "python",
   "nbconvert_exporter": "python",
   "pygments_lexer": "ipython3",
   "version": "3.8.5"
  }
 },
 "nbformat": 4,
 "nbformat_minor": 4
}
